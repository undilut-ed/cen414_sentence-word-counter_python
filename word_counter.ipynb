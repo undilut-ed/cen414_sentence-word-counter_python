{
 "cells": [
  {
   "cell_type": "code",
   "execution_count": 16,
   "id": "93e33dab-aaf7-4842-8296-fe5f7990ab4f",
   "metadata": {},
   "outputs": [],
   "source": [
    "statements = [\"I am a boy\", \"I am a girl\", \"I am a man\", \"I am a woman\"]"
   ]
  },
  {
   "cell_type": "code",
   "execution_count": 17,
   "id": "c76eee9e-2b2e-4e3f-b242-0d1d1e5cf947",
   "metadata": {},
   "outputs": [],
   "source": [
    "sentence_lengths = {}"
   ]
  },
  {
   "cell_type": "code",
   "execution_count": 18,
   "id": "29fcd68a-8cea-44b2-ae90-c8d5c45ed7a2",
   "metadata": {},
   "outputs": [],
   "source": [
    "for sentence in statements:\n",
    "    word_count = 0\n",
    "    for character in sentence:\n",
    "        word_count += 1 if character == \" \" else 0\n",
    "    word_count += len(sentence.split(\" \"))\n",
    "    sentence_lengths[sentence] = word_count"
   ]
  },
  {
   "cell_type": "code",
   "execution_count": 19,
   "id": "b3883743-4434-46bd-a44e-b9f726f5dd47",
   "metadata": {},
   "outputs": [
    {
     "name": "stdout",
     "output_type": "stream",
     "text": [
      "{'I am a boy': 7, 'I am a girl': 7, 'I am a man': 7, 'I am a woman': 7}\n"
     ]
    }
   ],
   "source": [
    "print(sentence_lengths)"
   ]
  }
 ],
 "metadata": {
  "kernelspec": {
   "display_name": "Python 3 (ipykernel)",
   "language": "python",
   "name": "python3"
  },
  "language_info": {
   "codemirror_mode": {
    "name": "ipython",
    "version": 3
   },
   "file_extension": ".py",
   "mimetype": "text/x-python",
   "name": "python",
   "nbconvert_exporter": "python",
   "pygments_lexer": "ipython3",
   "version": "3.10.5"
  }
 },
 "nbformat": 4,
 "nbformat_minor": 5
}
